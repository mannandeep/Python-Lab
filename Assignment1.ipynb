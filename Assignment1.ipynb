{
 "cells": [
  {
   "cell_type": "markdown",
   "metadata": {},
   "source": [
    "# Python Lab - ASSIGNMENT 1"
   ]
  },
  {
   "cell_type": "markdown",
   "metadata": {},
   "source": [
    "# Answer 1 "
   ]
  },
  {
   "cell_type": "code",
   "execution_count": 3,
   "metadata": {},
   "outputs": [
    {
     "name": "stdout",
     "output_type": "stream",
     "text": [
      "Enter your name \n",
      "Mannandeep Caur\n",
      "Enter your age \n",
      "21\n",
      "Mannandeep Caur you are 21 years old. You will turn 100 years old in 2100.\n"
     ]
    }
   ],
   "source": [
    "from datetime import datetime\n",
    "name = input('Enter your name \\n')\n",
    "age = int(input('Enter your age \\n'))\n",
    "year = int((100-age) + datetime.now().year)\n",
    "print ('%s you are %s years old. You will turn 100 years old in %s.' % (name, age, year))"
   ]
  },
  {
   "cell_type": "markdown",
   "metadata": {},
   "source": [
    "Answer 1 - part A"
   ]
  },
  {
   "cell_type": "code",
   "execution_count": 11,
   "metadata": {},
   "outputs": [
    {
     "name": "stdout",
     "output_type": "stream",
     "text": [
      "Enter the number of copies \n",
      "5\n",
      "Mannandeep Caur you are 21 years old. You will turn 100 years old in 2100.Mannandeep Caur you are 21 years old. You will turn 100 years old in 2100.Mannandeep Caur you are 21 years old. You will turn 100 years old in 2100.Mannandeep Caur you are 21 years old. You will turn 100 years old in 2100.Mannandeep Caur you are 21 years old. You will turn 100 years old in 2100.\n"
     ]
    }
   ],
   "source": [
    "repeat = int(input('Enter the number of copies \\n'))\n",
    "to_print =  ('%s you are %s years old. You will turn 100 years old in %s.' % (name, age, year))\n",
    "print(to_print*repeat)"
   ]
  },
  {
   "cell_type": "markdown",
   "metadata": {},
   "source": [
    "Answer 1 - part B "
   ]
  },
  {
   "cell_type": "code",
   "execution_count": 13,
   "metadata": {},
   "outputs": [
    {
     "name": "stdout",
     "output_type": "stream",
     "text": [
      "Enter the number of copies \n",
      "5\n",
      "Mannandeep Caur you are 21 years old. You will turn 100 years old in 2100. \n",
      "Mannandeep Caur you are 21 years old. You will turn 100 years old in 2100. \n",
      "Mannandeep Caur you are 21 years old. You will turn 100 years old in 2100. \n",
      "Mannandeep Caur you are 21 years old. You will turn 100 years old in 2100. \n",
      "Mannandeep Caur you are 21 years old. You will turn 100 years old in 2100. \n",
      "\n"
     ]
    }
   ],
   "source": [
    "repeat = int(input('Enter the number of copies \\n'))\n",
    "to_print =  ('%s you are %s years old. You will turn 100 years old in %s. \\n' % (name, age, year))\n",
    "print(to_print*repeat)"
   ]
  },
  {
   "cell_type": "markdown",
   "metadata": {},
   "source": [
    "# ANSWER 2"
   ]
  },
  {
   "cell_type": "code",
   "execution_count": 15,
   "metadata": {},
   "outputs": [
    {
     "name": "stdout",
     "output_type": "stream",
     "text": [
      "1\n",
      "1\n",
      "2\n",
      "3\n"
     ]
    }
   ],
   "source": [
    "a = [1, 1, 2, 3, 5, 8, 13, 21, 34, 55, 89]\n",
    "for element in a:\n",
    "    if element < 5:\n",
    "        print(element)"
   ]
  },
  {
   "cell_type": "markdown",
   "metadata": {},
   "source": [
    "Answer 2 - part A"
   ]
  },
  {
   "cell_type": "code",
   "execution_count": 19,
   "metadata": {},
   "outputs": [
    {
     "name": "stdout",
     "output_type": "stream",
     "text": [
      "[1, 1, 2, 3]\n"
     ]
    }
   ],
   "source": [
    "b = []\n",
    "for element in a:\n",
    "    if element < 5:\n",
    "        b.append(element)\n",
    "print(b)"
   ]
  },
  {
   "cell_type": "markdown",
   "metadata": {},
   "source": [
    "Answer 2 - part B"
   ]
  },
  {
   "cell_type": "code",
   "execution_count": 22,
   "metadata": {},
   "outputs": [
    {
     "name": "stdout",
     "output_type": "stream",
     "text": [
      "[1, 1, 2, 3]\n"
     ]
    }
   ],
   "source": [
    "c = []\n",
    "[c.append(i) for i in a if i<5]\n",
    "print(c)"
   ]
  },
  {
   "cell_type": "code",
   "execution_count": 24,
   "metadata": {},
   "outputs": [
    {
     "name": "stdout",
     "output_type": "stream",
     "text": [
      "Enter Number \n",
      "8\n",
      "[1, 1, 2, 3, 5]\n"
     ]
    }
   ],
   "source": [
    "num = int(input('Enter Number \\n'))\n",
    "d = []\n",
    "[d.append(i) for i in a if i < num]\n",
    "print(d)"
   ]
  },
  {
   "cell_type": "markdown",
   "metadata": {},
   "source": [
    "# Answer 3"
   ]
  },
  {
   "cell_type": "code",
   "execution_count": 27,
   "metadata": {},
   "outputs": [
    {
     "name": "stdout",
     "output_type": "stream",
     "text": [
      "How many fibnocci numbers to generate? \n",
      "45\n",
      "[1, 1, 2, 3, 5, 8, 13, 21, 34, 55, 89, 144, 233, 377, 610, 987, 1597, 2584, 4181, 6765, 10946, 17711, 28657, 46368, 75025, 121393, 196418, 317811, 514229, 832040, 1346269, 2178309, 3524578, 5702887, 9227465, 14930352, 24157817, 39088169, 63245986, 102334155, 165580141, 267914296, 433494437, 701408733, 1134903170]\n"
     ]
    }
   ],
   "source": [
    "def fibonacci():\n",
    "    num = int(input(\"How many fibnocci numbers to generate? \\n\"))\n",
    "    i = 1\n",
    "    if num == 0:\n",
    "        fib = []\n",
    "    elif num == 1:\n",
    "        fib = [1]\n",
    "    elif num == 2:\n",
    "        fib = [1,1]\n",
    "    elif num > 2:\n",
    "        fib = [1,1]\n",
    "        while i < (num - 1):\n",
    "            fib.append(fib[i] + fib[i-1])\n",
    "            i += 1\n",
    "    return fib\n",
    "print(fibonacci())"
   ]
  },
  {
   "cell_type": "markdown",
   "metadata": {},
   "source": [
    "# Answer 4"
   ]
  },
  {
   "cell_type": "markdown",
   "metadata": {},
   "source": [
    "Method 1"
   ]
  },
  {
   "cell_type": "code",
   "execution_count": 32,
   "metadata": {},
   "outputs": [
    {
     "name": "stdout",
     "output_type": "stream",
     "text": [
      "Enter element\n",
      "12\n",
      "Enter element\n",
      "34\n",
      "Enter element\n",
      "23\n",
      "Enter element\n",
      "12\n",
      "Enter element\n",
      "23\n",
      "Enter element\n",
      "5\n",
      "Enter element\n",
      "6\n",
      "Enter element\n",
      "5\n",
      "Enter element\n",
      "3\n",
      "Enter element\n",
      "45\n",
      "[12, 34, 23, 12, 23, 5, 6, 5, 3, 45]\n"
     ]
    }
   ],
   "source": [
    "input_list = []\n",
    "for i in range (0,10):\n",
    "    x = int(input(\"Enter element\\n\"))\n",
    "    input_list.append(x)\n",
    "    i = i+1\n",
    "print(input_list)"
   ]
  },
  {
   "cell_type": "code",
   "execution_count": 37,
   "metadata": {},
   "outputs": [
    {
     "name": "stdout",
     "output_type": "stream",
     "text": [
      "[12, 34, 23, 5, 6, 3, 45]\n"
     ]
    }
   ],
   "source": [
    "no_duplicate = []\n",
    "def remove_duplicates(input_list):\n",
    "    for i in input_list:\n",
    "        if i not in no_duplicate:\n",
    "            no_duplicate.append(i)\n",
    "    return no_duplicate\n",
    "print(remove_duplicates(input_list))    "
   ]
  },
  {
   "cell_type": "markdown",
   "metadata": {},
   "source": [
    "Method 2 "
   ]
  },
  {
   "cell_type": "code",
   "execution_count": 38,
   "metadata": {},
   "outputs": [
    {
     "name": "stdout",
     "output_type": "stream",
     "text": [
      "[34, 3, 5, 6, 12, 45, 23]\n"
     ]
    }
   ],
   "source": [
    "print(list(set(input_list)))"
   ]
  },
  {
   "cell_type": "markdown",
   "metadata": {},
   "source": [
    "# Answer 5"
   ]
  },
  {
   "cell_type": "code",
   "execution_count": 39,
   "metadata": {},
   "outputs": [
    {
     "name": "stdout",
     "output_type": "stream",
     "text": [
      "Enter a number \n",
      "34\n",
      "34 is not a prime number\n",
      "2 times 17 is 34\n"
     ]
    }
   ],
   "source": [
    "def Prime(num):\n",
    "    if num > 1:  \n",
    "        for i in range(2,num//2):  \n",
    "            if (num % i) == 0:  \n",
    "                print(num,\"is not a prime number\")  \n",
    "                print(i,\"times\",num//i,\"is\",num) \n",
    "                break\n",
    "        else:  \n",
    "            print(num,\"is a prime number\")  \n",
    "    else:\n",
    "        print(\"number should be greater than 1\")\n",
    "\n",
    "num = int(input('Enter a number \\n'))\n",
    "Prime(int(num))"
   ]
  },
  {
   "cell_type": "code",
   "execution_count": null,
   "metadata": {},
   "outputs": [],
   "source": []
  }
 ],
 "metadata": {
  "kernelspec": {
   "display_name": "Python 3",
   "language": "python",
   "name": "python3"
  },
  "language_info": {
   "codemirror_mode": {
    "name": "ipython",
    "version": 3
   },
   "file_extension": ".py",
   "mimetype": "text/x-python",
   "name": "python",
   "nbconvert_exporter": "python",
   "pygments_lexer": "ipython3",
   "version": "3.7.6"
  }
 },
 "nbformat": 4,
 "nbformat_minor": 4
}
